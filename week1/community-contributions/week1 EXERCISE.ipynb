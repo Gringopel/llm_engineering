{
 "cells": [
  {
   "cell_type": "markdown",
   "id": "fe12c203-e6a6-452c-a655-afb8a03a4ff5",
   "metadata": {},
   "source": [
    "# Ejercicio final de la semana 1\n",
    "\n",
    "Para demostrar que estás familiarizado con la API de OpenAI y también con Ollama, crea una herramienta que responda a una pregunta técnica\n",
    "y la explique. ¡Esta es una herramienta que podrás usar durante el curso!"
   ]
  },
  {
   "cell_type": "code",
   "execution_count": 1,
   "id": "a8dcfccb-f36e-4ba8-8b6b-4fcca23cf572",
   "metadata": {},
   "outputs": [],
   "source": [
    "# imports\n",
    "import os\n",
    "from dotenv import load_dotenv\n",
    "from openai import OpenAI\n",
    "from IPython.display import Markdown, display, update_display\n",
    "import ollama\n"
   ]
  },
  {
   "cell_type": "code",
   "execution_count": 2,
   "id": "4a456906-915a-4bfd-bb9d-57e505c5093f",
   "metadata": {},
   "outputs": [],
   "source": [
    "# constantes\n",
    "\n",
    "MODEL_GPT = 'gpt-4o-mini'\n",
    "MODEL_LLAMA = 'llama3.2'"
   ]
  },
  {
   "cell_type": "code",
   "execution_count": 3,
   "id": "a8d7923c-5f28-4c30-8556-342d7c8497c1",
   "metadata": {},
   "outputs": [
    {
     "name": "stdout",
     "output_type": "stream",
     "text": [
      "La clave de API parece buena\n"
     ]
    }
   ],
   "source": [
    "# Configura el entorno\n",
    "\n",
    "load_dotenv()\n",
    "api_key = os.getenv('OPENAI_API_KEY')\n",
    "\n",
    "if api_key and api_key[:8]=='sk-proj-':\n",
    "    print(\"La clave de API parece buena\")\n",
    "else:\n",
    "    print(\"¿Puede haber un problema con tu clave API? ¡Visita el cuaderno de resolución de problemas!\")\n",
    "openai = OpenAI()"
   ]
  },
  {
   "cell_type": "code",
   "execution_count": 4,
   "id": "3f0d0137-52b0-47a8-81a8-11a90a010798",
   "metadata": {},
   "outputs": [
    {
     "name": "stdin",
     "output_type": "stream",
     "text": [
      "Dime que quieres saber >> ¿Para que se usa un bucle FOR?\n"
     ]
    }
   ],
   "source": [
    "# Aquí está la pregunta; escribe sobre esto para preguntar algo nuevo\n",
    "\n",
    "question = input(\"Dime que quieres saber >>\")\n",
    "\n",
    "system_prompt =\"Eres un experto en desarrollo que responderá preguntas sobre desarrollo de llms\"\n",
    "user_promt = \"Explica detalladamente la siguiente pregunta: \" + question\n",
    "\n",
    "messages = [\n",
    "    {\"role\": \"system\", \"content\": system_prompt},\n",
    "    {\"role\": \"user\", \"content\": user_promt}\n",
    "]\n"
   ]
  },
  {
   "cell_type": "code",
   "execution_count": 5,
   "id": "60ce7000-a4a5-4cce-a261-e75ef45063b4",
   "metadata": {
    "scrolled": true
   },
   "outputs": [
    {
     "data": {
      "text/markdown": [
       "Un bucle `FOR` es una estructura de control en muchos lenguajes de programación que permite ejecutar un bloque de código un número determinado de veces o iterar sobre una colección de elementos, como un arreglo o una lista. Su principal objetivo es facilitar la repetición de operaciones y automatizar tareas que requieren realizar la misma acción múltiples veces.\n",
       "\n",
       "### Estructura del bucle `FOR`\n",
       "\n",
       "La estructura general de un bucle `FOR` puede variar según el lenguaje de programación, pero comúnmente incluye las siguientes partes:\n",
       "\n",
       "1. **Inicialización**: Se establece una variable de control (el contador) que inicia en un valor específico.\n",
       "2. **Condición**: Se evalúa una condición para determinar si el bucle debe continuar. Mientras esta condición sea verdadera, el bucle seguirá ejecutándose.\n",
       "3. **Iteración**: Se actualiza la variable de control en cada iteración del bucle, ya sea incrementándola o modificándola de alguna manera.\n",
       "4. **Bloque de código**: El bloque de código que se ejecutará en cada iteración.\n",
       "\n",
       "### Ejemplos de uso\n",
       "\n",
       "1. **Contar hasta un número**:\n",
       "   python\n",
       "   for i in range(5):  # Desde 0 hasta 4\n",
       "       print(i)\n",
       "   \n",
       "   En este ejemplo, `i` tomará los valores de 0 a 4, e imprimirá cada uno.\n",
       "\n",
       "2. **Iterar sobre una lista**:\n",
       "   python\n",
       "   frutas = ['manzana', 'plátano', 'naranja']\n",
       "   for fruta in frutas:\n",
       "       print(fruta)\n",
       "   \n",
       "   Aquí, el bucle recorre cada elemento de la lista `frutas` y lo imprime.\n",
       "\n",
       "3. **Sumar números**:\n",
       "   python\n",
       "   suma = 0\n",
       "   for i in range(1, 101):  # Suma del 1 al 100\n",
       "       suma += i\n",
       "   print(suma)\n",
       "   \n",
       "   Este bucle `FOR` suma los números del 1 al 100.\n",
       "\n",
       "### Ventajas de usar un bucle `FOR`\n",
       "\n",
       "- **Simplicidad**: La sintaxis es generalmente más concisa y clara para iterar sobre rangos o colecciones, lo que hace que el código sea más fácil de leer y entender.\n",
       "- **Control**: Permite un mayor control sobre cómo y cuándo se ejecutan las iteraciones, gracias a la inicialización y la condición de salida.\n",
       "- **Evita la repetición de código**: Ayuda a evitar la duplicación de código, facilitando la reutilización y el mantenimiento.\n",
       "\n",
       "### Casos de uso comunes\n",
       "\n",
       "- Procesar elementos de una lista o un arreglo.\n",
       "- Realizar operaciones matemáticas en rangos definidos de números.\n",
       "- Ejecutar iteraciones sobre objetos, como elementos en una base de datos.\n",
       "\n",
       "En resumen, un bucle `FOR` es una herramienta fundamental en la programación que ayuda a automatizar tareas repetitivas, facilitando la creación de programas que manejan grandes volúmenes de datos u operaciones similares de manera más eficiente."
      ],
      "text/plain": [
       "<IPython.core.display.Markdown object>"
      ]
     },
     "metadata": {},
     "output_type": "display_data"
    }
   ],
   "source": [
    "# Haz que gpt-4o-mini responda, con streaming\n",
    "\n",
    "stream = openai.chat.completions.create(model=MODEL_GPT, messages=messages, stream=True)\n",
    "\n",
    "response = \"\"\n",
    "display_handle = display(Markdown(\"\"), display_id=True)\n",
    "for chunk in stream:\n",
    "    response += chunk.choices[0].delta.content or ''\n",
    "    response = response.replace(\"```\",\"\").replace(\"markdown\", \"\")\n",
    "    update_display(Markdown(response), display_id=display_handle.display_id)\n",
    "                         "
   ]
  },
  {
   "cell_type": "code",
   "execution_count": 6,
   "id": "8f7c8ea8-4082-4ad0-8751-3301adcf6538",
   "metadata": {},
   "outputs": [
    {
     "data": {
      "text/markdown": [
       "¡Claro! Un bucle FOR es una estructura de control en el lenguaje de programación que permite ejecutar una secuencia de instrucciones varias veces, hasta que un criterio determinado sea satisfecho.\n",
       "\n",
       "**Qué es un bucle FOR?**\n",
       "\n",
       "Un bucle FOR es una sentencia que utiliza la palabra clave `FOR` para indicar al procesador que debe repetir el cuerpo del bucle una cierta cantidad de veces. El bucle FOR se utiliza comúnmente para iterar sobre una secuencia de datos, como arrays o matrices.\n",
       "\n",
       "**Forma básica de un bucle FOR**\n",
       "\n",
       "La forma básica de un bucle FOR es la siguiente:\n",
       "\n",
       "```c\n",
       "FOR variable ENumerador DE fin del bucle\n",
       "    cuerpo del bucle\n",
       "END FOR\n",
       "```\n",
       "\n",
       "*   `variable`: es el nombre de la variable que se utilizará para iterar sobre la secuencia de datos.\n",
       "*   `ENumerador`: es el valor inicial de la variable que se utiliza para iniciar la iteración. También puede ser una expresión matemática que calcula el valor inicial de la variable.\n",
       "*   `DE`: es la palabra clave que indica el inicio del rango de valores que se utilizarán en la iteración.\n",
       "*   `fin del bucle`: es la condición que se debe cumplir para terminar la iteración.\n",
       "\n",
       "**Ejemplo**\n",
       "\n",
       "Aquí tienes un ejemplo sencillo:\n",
       "\n",
       "```c\n",
       "FOR i DE 1 A 5\n",
       "    IMPRIMIR(i)\n",
       "END FOR\n",
       "```\n",
       "\n",
       "En este caso, el bucle se ejecutará 5 veces, con los valores de `i` siendo 1, 2, 3, 4 y 5. El cuerpo del bucle es la sentencia `IMPRIMIR(i)` que imprime cada valor de `i`.\n",
       "\n",
       "**Tipos de iteradores**\n",
       "\n",
       "Existen dos tipos de iteradores en un bucle FOR:\n",
       "\n",
       "*   **Iterador de posición**: es el tipo más común de iterador, se utiliza para acceder a cada elemento de una secuencia.\n",
       "*   **Iterador de acceso**: se utiliza cuando necesitas acceder a varios elementos de la secuencia al mismo tiempo.\n",
       "\n",
       "**Ventajas del bucle FOR**\n",
       "\n",
       "Los bucles FOR tienen varias ventajas:\n",
       "\n",
       "*   Facilitan la repetición de tareas simples y complejas.\n",
       "*   Permiten ejecutar secuencias de instrucciones diversas en un solo lugar.\n",
       "*   Son útiles para iterar sobre datos en una tabla, lista o matriz.\n",
       "\n",
       "**Conclusión**\n",
       "\n",
       "En resumen, el bucle FOR es una estructura de control en programación que se utiliza para repetir una secuencia de instrucciones varias veces hasta que se cumpla un criterio determinado. Los bucles FOR son fundamentales en la programación y ayudan a simplificar tareas repetitivas, acceder a múltiples elementos de una secuencia y ejecutar una secuencia de instrucciones diversas en un solo lugar."
      ],
      "text/plain": [
       "<IPython.core.display.Markdown object>"
      ]
     },
     "metadata": {},
     "output_type": "display_data"
    }
   ],
   "source": [
    "# Haz que Llama 3.2 responda\n",
    "\n",
    "response = ollama.chat(model=MODEL_LLAMA, messages=messages)\n",
    "reply = response[\"message\"][\"content\"]\n",
    "display(Markdown(reply))"
   ]
  },
  {
   "cell_type": "code",
   "execution_count": null,
   "id": "de622f32-8fcb-47a6-b262-fec3413310bc",
   "metadata": {},
   "outputs": [],
   "source": []
  }
 ],
 "metadata": {
  "kernelspec": {
   "display_name": "Python 3 (ipykernel)",
   "language": "python",
   "name": "python3"
  },
  "language_info": {
   "codemirror_mode": {
    "name": "ipython",
    "version": 3
   },
   "file_extension": ".py",
   "mimetype": "text/x-python",
   "name": "python",
   "nbconvert_exporter": "python",
   "pygments_lexer": "ipython3",
   "version": "3.11.11"
  }
 },
 "nbformat": 4,
 "nbformat_minor": 5
}
